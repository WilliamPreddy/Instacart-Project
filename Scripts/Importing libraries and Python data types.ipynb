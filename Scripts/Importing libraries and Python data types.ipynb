{
 "cells": [
  {
   "cell_type": "markdown",
   "id": "1f4cfc01",
   "metadata": {},
   "source": [
    "# 01 Importing libraries"
   ]
  },
  {
   "cell_type": "code",
   "execution_count": 1,
   "id": "0a96cb9c",
   "metadata": {},
   "outputs": [],
   "source": [
    "# Import Libraries\n",
    "import pandas as pd\n",
    "import numpy as np\n",
    "import os"
   ]
  },
  {
   "cell_type": "code",
   "execution_count": 2,
   "id": "f64ad8e3",
   "metadata": {},
   "outputs": [],
   "source": [
    "# integer\n",
    "x=2"
   ]
  },
  {
   "cell_type": "code",
   "execution_count": 3,
   "id": "e90eb426",
   "metadata": {},
   "outputs": [
    {
     "name": "stdout",
     "output_type": "stream",
     "text": [
      "2\n"
     ]
    }
   ],
   "source": [
    "# integer\n",
    "print(x)"
   ]
  },
  {
   "cell_type": "code",
   "execution_count": 4,
   "id": "df2a999c",
   "metadata": {},
   "outputs": [
    {
     "data": {
      "text/plain": [
       "2"
      ]
     },
     "execution_count": 4,
     "metadata": {},
     "output_type": "execute_result"
    }
   ],
   "source": [
    "# integer\n",
    "x"
   ]
  },
  {
   "cell_type": "code",
   "execution_count": 5,
   "id": "b13cd2ec",
   "metadata": {},
   "outputs": [
    {
     "data": {
      "text/plain": [
       "int"
      ]
     },
     "execution_count": 5,
     "metadata": {},
     "output_type": "execute_result"
    }
   ],
   "source": [
    "# integer\n",
    "type(x)"
   ]
  },
  {
   "cell_type": "code",
   "execution_count": 6,
   "id": "a349ac3d",
   "metadata": {},
   "outputs": [],
   "source": [
    "# floating-point numbers\n",
    "y=5.678"
   ]
  },
  {
   "cell_type": "code",
   "execution_count": 7,
   "id": "bec7fcfd",
   "metadata": {},
   "outputs": [
    {
     "data": {
      "text/plain": [
       "float"
      ]
     },
     "execution_count": 7,
     "metadata": {},
     "output_type": "execute_result"
    }
   ],
   "source": [
    "type (y)"
   ]
  },
  {
   "cell_type": "code",
   "execution_count": 8,
   "id": "ef3fe571",
   "metadata": {},
   "outputs": [],
   "source": [
    "z='brazil'"
   ]
  },
  {
   "cell_type": "code",
   "execution_count": 9,
   "id": "11152752",
   "metadata": {},
   "outputs": [
    {
     "data": {
      "text/plain": [
       "str"
      ]
     },
     "execution_count": 9,
     "metadata": {},
     "output_type": "execute_result"
    }
   ],
   "source": [
    "type(z)"
   ]
  },
  {
   "cell_type": "code",
   "execution_count": 10,
   "id": "8736a7c5",
   "metadata": {},
   "outputs": [
    {
     "data": {
      "text/plain": [
       "str"
      ]
     },
     "execution_count": 10,
     "metadata": {},
     "output_type": "execute_result"
    }
   ],
   "source": [
    "type('mania')"
   ]
  },
  {
   "cell_type": "code",
   "execution_count": 11,
   "id": "aea3d7a5",
   "metadata": {},
   "outputs": [
    {
     "ename": "NameError",
     "evalue": "name 'true' is not defined",
     "output_type": "error",
     "traceback": [
      "\u001b[1;31m---------------------------------------------------------------------------\u001b[0m",
      "\u001b[1;31mNameError\u001b[0m                                 Traceback (most recent call last)",
      "Cell \u001b[1;32mIn[11], line 1\u001b[0m\n\u001b[1;32m----> 1\u001b[0m \u001b[38;5;28mtype\u001b[39m(\u001b[43mtrue\u001b[49m)\n",
      "\u001b[1;31mNameError\u001b[0m: name 'true' is not defined"
     ]
    }
   ],
   "source": [
    "type(true)"
   ]
  },
  {
   "cell_type": "code",
   "execution_count": 12,
   "id": "4e6640e1",
   "metadata": {},
   "outputs": [
    {
     "data": {
      "text/plain": [
       "bool"
      ]
     },
     "execution_count": 12,
     "metadata": {},
     "output_type": "execute_result"
    }
   ],
   "source": [
    "type(True)"
   ]
  },
  {
   "cell_type": "code",
   "execution_count": 13,
   "id": "068bb112",
   "metadata": {},
   "outputs": [
    {
     "data": {
      "text/plain": [
       "bool"
      ]
     },
     "execution_count": 13,
     "metadata": {},
     "output_type": "execute_result"
    }
   ],
   "source": [
    "type(False)"
   ]
  },
  {
   "cell_type": "code",
   "execution_count": 14,
   "id": "69bfe0f0",
   "metadata": {},
   "outputs": [
    {
     "data": {
      "text/plain": [
       "100"
      ]
     },
     "execution_count": 14,
     "metadata": {},
     "output_type": "execute_result"
    }
   ],
   "source": [
    "# Data Types:Integers\n",
    "150-50"
   ]
  },
  {
   "cell_type": "code",
   "execution_count": 15,
   "id": "6304f9aa",
   "metadata": {},
   "outputs": [],
   "source": [
    "a=150"
   ]
  },
  {
   "cell_type": "code",
   "execution_count": 16,
   "id": "9fe90f23",
   "metadata": {},
   "outputs": [],
   "source": [
    "b=50"
   ]
  },
  {
   "cell_type": "code",
   "execution_count": 17,
   "id": "4104f050",
   "metadata": {},
   "outputs": [
    {
     "data": {
      "text/plain": [
       "100"
      ]
     },
     "execution_count": 17,
     "metadata": {},
     "output_type": "execute_result"
    }
   ],
   "source": [
    "a-b"
   ]
  },
  {
   "cell_type": "code",
   "execution_count": 18,
   "id": "68a1272e",
   "metadata": {},
   "outputs": [],
   "source": [
    "c=99"
   ]
  },
  {
   "cell_type": "code",
   "execution_count": 19,
   "id": "c2d921b7",
   "metadata": {},
   "outputs": [],
   "source": [
    "d=1"
   ]
  },
  {
   "cell_type": "code",
   "execution_count": 20,
   "id": "b66372a0",
   "metadata": {},
   "outputs": [
    {
     "data": {
      "text/plain": [
       "100"
      ]
     },
     "execution_count": 20,
     "metadata": {},
     "output_type": "execute_result"
    }
   ],
   "source": [
    "c+d"
   ]
  },
  {
   "cell_type": "code",
   "execution_count": 21,
   "id": "a3f479fe",
   "metadata": {},
   "outputs": [],
   "source": [
    "e=250"
   ]
  },
  {
   "cell_type": "code",
   "execution_count": 22,
   "id": "b1189406",
   "metadata": {},
   "outputs": [
    {
     "data": {
      "text/plain": [
       "100"
      ]
     },
     "execution_count": 22,
     "metadata": {},
     "output_type": "execute_result"
    }
   ],
   "source": [
    "e-a"
   ]
  },
  {
   "cell_type": "code",
   "execution_count": 23,
   "id": "b157f1dd",
   "metadata": {},
   "outputs": [],
   "source": [
    "f=1.234"
   ]
  },
  {
   "cell_type": "code",
   "execution_count": 24,
   "id": "0a7b96f1",
   "metadata": {},
   "outputs": [
    {
     "data": {
      "text/plain": [
       "4.60129659643436"
      ]
     },
     "execution_count": 24,
     "metadata": {},
     "output_type": "execute_result"
    }
   ],
   "source": [
    "y/f"
   ]
  },
  {
   "cell_type": "code",
   "execution_count": 25,
   "id": "8df7a191",
   "metadata": {},
   "outputs": [
    {
     "data": {
      "text/plain": [
       "0.2173300457907714"
      ]
     },
     "execution_count": 25,
     "metadata": {},
     "output_type": "execute_result"
    }
   ],
   "source": [
    "f/y"
   ]
  },
  {
   "cell_type": "code",
   "execution_count": 27,
   "id": "832bf5b1",
   "metadata": {},
   "outputs": [],
   "source": [
    "g='jup'"
   ]
  },
  {
   "cell_type": "code",
   "execution_count": 28,
   "id": "76ca7e90",
   "metadata": {},
   "outputs": [],
   "source": [
    "h='yter'"
   ]
  },
  {
   "cell_type": "code",
   "execution_count": 29,
   "id": "c662d372",
   "metadata": {},
   "outputs": [
    {
     "data": {
      "text/plain": [
       "'jupyter'"
      ]
     },
     "execution_count": 29,
     "metadata": {},
     "output_type": "execute_result"
    }
   ],
   "source": [
    "g+h"
   ]
  },
  {
   "cell_type": "code",
   "execution_count": 30,
   "id": "b2caa95f",
   "metadata": {},
   "outputs": [],
   "source": [
    "i='is'"
   ]
  },
  {
   "cell_type": "code",
   "execution_count": 31,
   "id": "d2202c2f",
   "metadata": {},
   "outputs": [],
   "source": [
    "j='great'"
   ]
  },
  {
   "cell_type": "code",
   "execution_count": 32,
   "id": "37a1044b",
   "metadata": {},
   "outputs": [
    {
     "data": {
      "text/plain": [
       "'jupyterisgreat'"
      ]
     },
     "execution_count": 32,
     "metadata": {},
     "output_type": "execute_result"
    }
   ],
   "source": [
    "(g+h)+i+j"
   ]
  },
  {
   "cell_type": "code",
   "execution_count": 33,
   "id": "ccbfdf2a",
   "metadata": {},
   "outputs": [],
   "source": [
    "k='python'"
   ]
  },
  {
   "cell_type": "code",
   "execution_count": 34,
   "id": "e633b568",
   "metadata": {},
   "outputs": [],
   "source": [
    "l='fun'"
   ]
  },
  {
   "cell_type": "code",
   "execution_count": 35,
   "id": "06e9fe6c",
   "metadata": {},
   "outputs": [
    {
     "data": {
      "text/plain": [
       "'pythonisfun'"
      ]
     },
     "execution_count": 35,
     "metadata": {},
     "output_type": "execute_result"
    }
   ],
   "source": [
    "k+i+l"
   ]
  },
  {
   "cell_type": "code",
   "execution_count": 36,
   "id": "ad6246f6",
   "metadata": {},
   "outputs": [
    {
     "data": {
      "text/plain": [
       "['jupyterisgreat',\n",
       " 'jupyterisgreat',\n",
       " 'jupyterisgreat',\n",
       " 'jupyterisgreat',\n",
       " 'jupyterisgreat',\n",
       " 'jupyterisgreat',\n",
       " 'jupyterisgreat',\n",
       " 'jupyterisgreat',\n",
       " 'jupyterisgreat',\n",
       " 'jupyterisgreat',\n",
       " 'jupyterisgreat',\n",
       " 'jupyterisgreat',\n",
       " 'jupyterisgreat',\n",
       " 'jupyterisgreat',\n",
       " 'jupyterisgreat',\n",
       " 'jupyterisgreat',\n",
       " 'jupyterisgreat',\n",
       " 'jupyterisgreat',\n",
       " 'jupyterisgreat',\n",
       " 'jupyterisgreat',\n",
       " 'jupyterisgreat',\n",
       " 'jupyterisgreat',\n",
       " 'jupyterisgreat',\n",
       " 'jupyterisgreat',\n",
       " 'jupyterisgreat',\n",
       " 'jupyterisgreat',\n",
       " 'jupyterisgreat',\n",
       " 'jupyterisgreat',\n",
       " 'jupyterisgreat',\n",
       " 'jupyterisgreat',\n",
       " 'jupyterisgreat',\n",
       " 'jupyterisgreat',\n",
       " 'jupyterisgreat',\n",
       " 'jupyterisgreat',\n",
       " 'jupyterisgreat',\n",
       " 'jupyterisgreat',\n",
       " 'jupyterisgreat',\n",
       " 'jupyterisgreat',\n",
       " 'jupyterisgreat',\n",
       " 'jupyterisgreat',\n",
       " 'jupyterisgreat',\n",
       " 'jupyterisgreat',\n",
       " 'jupyterisgreat',\n",
       " 'jupyterisgreat',\n",
       " 'jupyterisgreat',\n",
       " 'jupyterisgreat',\n",
       " 'jupyterisgreat',\n",
       " 'jupyterisgreat',\n",
       " 'jupyterisgreat',\n",
       " 'jupyterisgreat',\n",
       " 'jupyterisgreat',\n",
       " 'jupyterisgreat',\n",
       " 'jupyterisgreat',\n",
       " 'jupyterisgreat',\n",
       " 'jupyterisgreat',\n",
       " 'jupyterisgreat',\n",
       " 'jupyterisgreat',\n",
       " 'jupyterisgreat',\n",
       " 'jupyterisgreat',\n",
       " 'jupyterisgreat',\n",
       " 'jupyterisgreat',\n",
       " 'jupyterisgreat',\n",
       " 'jupyterisgreat',\n",
       " 'jupyterisgreat',\n",
       " 'jupyterisgreat',\n",
       " 'jupyterisgreat',\n",
       " 'jupyterisgreat',\n",
       " 'jupyterisgreat',\n",
       " 'jupyterisgreat',\n",
       " 'jupyterisgreat',\n",
       " 'jupyterisgreat',\n",
       " 'jupyterisgreat',\n",
       " 'jupyterisgreat',\n",
       " 'jupyterisgreat',\n",
       " 'jupyterisgreat',\n",
       " 'jupyterisgreat',\n",
       " 'jupyterisgreat',\n",
       " 'jupyterisgreat',\n",
       " 'jupyterisgreat',\n",
       " 'jupyterisgreat',\n",
       " 'jupyterisgreat',\n",
       " 'jupyterisgreat',\n",
       " 'jupyterisgreat',\n",
       " 'jupyterisgreat',\n",
       " 'jupyterisgreat',\n",
       " 'jupyterisgreat',\n",
       " 'jupyterisgreat',\n",
       " 'jupyterisgreat',\n",
       " 'jupyterisgreat',\n",
       " 'jupyterisgreat',\n",
       " 'jupyterisgreat',\n",
       " 'jupyterisgreat',\n",
       " 'jupyterisgreat',\n",
       " 'jupyterisgreat',\n",
       " 'jupyterisgreat',\n",
       " 'jupyterisgreat',\n",
       " 'jupyterisgreat',\n",
       " 'jupyterisgreat',\n",
       " 'jupyterisgreat',\n",
       " 'jupyterisgreat']"
      ]
     },
     "execution_count": 36,
     "metadata": {},
     "output_type": "execute_result"
    }
   ],
   "source": [
    "[(g+h)+i+j]*100"
   ]
  },
  {
   "cell_type": "code",
   "execution_count": null,
   "id": "23211419",
   "metadata": {},
   "outputs": [],
   "source": []
  }
 ],
 "metadata": {
  "kernelspec": {
   "display_name": "Python 3 (ipykernel)",
   "language": "python",
   "name": "python3"
  },
  "language_info": {
   "codemirror_mode": {
    "name": "ipython",
    "version": 3
   },
   "file_extension": ".py",
   "mimetype": "text/x-python",
   "name": "python",
   "nbconvert_exporter": "python",
   "pygments_lexer": "ipython3",
   "version": "3.10.9"
  }
 },
 "nbformat": 4,
 "nbformat_minor": 5
}
